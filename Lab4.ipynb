
Objective
Given a 3×3 board with 8 tiles and one empty space

Move the numbers around to match the final configuration using the empty spot
You can slide the numbers from above, below, left and right tiles into the empty space.
Use A* Algorithm


1. Create the function that finds us the total estimated cost of path through node n - F(n)
Create a way to find cost so far to reach node n - G(n)
Create a heuristic function to estimate cost from n to goal - H(n)
In [61]:
def print_grid(src):#print the grid
    state = src.copy()
    state[state.index(-1)] = ' '
    print(
        f"""
{state[0]} {state[1]} {state[2]}
{state[3]} {state[4]} {state[5]}
{state[6]} {state[7]} {state[8]}
        """
    )
In [62]:
def h(state, target):
    #Manhattan distance
    dist = 0
    for i in state:
        d1, d2 = state.index(i), target.index(i)
        x1, y1 = d1 % 3, d1 // 3
        x2, y2 = d2 % 3, d2 // 3
        dist += abs(x1-x2) + abs(y1-y2)
    return dist
In [63]:
def astar(src, target):#a* algo
    states = [src]
    g = 0
    visited_states = set()
    while len(states):
        print(f"Level: {g}")
        moves = []
        for state in states:
            visited_states.add(tuple(state))
            print_grid(state)
            if state == target:
                print("Success")
                return
            moves += [move for move in possible_moves(state, visited_states) if move not in moves]
        costs = [g + h(move, target) for move in moves]#fn=gn+hn
        states = [moves[i] for i in range(len(moves)) if costs[i] == min(costs)]#min cost
        g += 1
    print("Fail")
2. Create a Search function
To traverse across the tree using F(n) to select the next node
1. Make sure it to discard visited sites
2. Create possible moves function
3. Create move generator function
In [ ]:

In [64]:
def possible_moves(state, visited_states):
    b = state.index(-1)  
    d = []
    if 9 > b - 3 >= 0: 
        d += 'u'
    if 9 > b + 3 >= 0:
        d += 'd'
    if b not in [2,5,8]: 
        d += 'r'
    if b not in [0,3,6]: 
        d += 'l'
    pos_moves = []
    for move in d:
        pos_moves.append(gen(state,move,b))
    return [move for move in pos_moves if tuple(move) not in visited_states]
In [65]:
def gen(state, direction, b):
    temp = state.copy()                              
    if direction == 'u':
        temp[b-3], temp[b] = temp[b], temp[b-3]
    if direction == 'd':
        temp[b+3], temp[b] = temp[b], temp[b+3]
    if direction == 'r':
        temp[b+1], temp[b] = temp[b], temp[b+1]
    if direction == 'l':
        temp[b-1], temp[b] = temp[b], temp[b-1]
    return temp
In [ ]:

In [66]:
#Test 1
src = [1,2,3,-1,4,5,6,7,8]
target = [1,2,3,4,5,-1,6,7,8]         
       


astar(src, target)
Level: 0

1 2 3
  4 5
6 7 8
        
Level: 1

1 2 3
4   5
6 7 8
        
Level: 2

1 2 3
4 5  
6 7 8
        
Success
In [67]:
# Test 2
src = [1,2,3,-1,4,5,6,7,8] 
target=[1,2,3,6,4,5,-1,7,8]



astar(src, target)
Level: 0

1 2 3
  4 5
6 7 8
        
Level: 1

1 2 3
6 4 5
  7 8
        
Success
In [68]:
# Test 3
src = [1,2,3,7,4,5,6,-1,8] 
target=[1,2,3,6,4,5,-1,7,8]

astar(src, target)
Level: 0

1 2 3
7 4 5
6   8
        
Level: 1

1 2 3
7 4 5
  6 8
        
Level: 2

1 2 3
  4 5
7 6 8
        
Level: 3

  2 3
1 4 5
7 6 8
        

1 2 3
4   5
7 6 8
        
Level: 4

1 2 3
4 6 5
7   8
        
Level: 5

1 2 3
4 6 5
  7 8
        
Level: 6

1 2 3
  6 5
4 7 8
        
Level: 7

1 2 3
6   5
4 7 8
        
Level: 8

1 2 3
6 7 5
4   8
        
Level: 9

1 2 3
6 7 5
  4 8
        
Level: 10

1 2 3
  7 5
6 4 8
        
Level: 11

  2 3
1 7 5
6 4 8
        

1 2 3
7   5
6 4 8
        
Level: 12

2   3
1 7 5
6 4 8
        

1   3
7 2 5
6 4 8
        

1 2 3
7 5  
6 4 8
        
Level: 13

2 7 3
1   5
6 4 8
        

  1 3
7 2 5
6 4 8
        

1 2 3
7 5 8
6 4  
        
Level: 14

2 7 3
1 4 5
6   8
        
Level: 15

2 7 3
1 4 5
  6 8
        
Level: 16

2 7 3
  4 5
1 6 8
        
Level: 17

  7 3
2 4 5
1 6 8
        

2 7 3
4   5
1 6 8
        
Level: 18

2 7 3
4 6 5
1   8
        
Level: 19

2 7 3
4 6 5
  1 8
        
Level: 20

2 7 3
  6 5
4 1 8
        
Level: 21

2 7 3
6   5
4 1 8
        
Level: 22

2 7 3
6 1 5
4   8
        
Level: 23

2 7 3
6 1 5
  4 8
        
Level: 24

2 7 3
  1 5
6 4 8
        
Level: 25

  7 3
2 1 5
6 4 8
        
Level: 26

7   3
2 1 5
6 4 8
        
Level: 27

7 1 3
2   5
6 4 8
        
Level: 28

7 1 3
2 4 5
6   8
        

7 1 3
  2 5
6 4 8
        
Level: 29

7 1 3
6 2 5
  4 8
        
Level: 30

7 1 3
6 2 5
4   8
        
Level: 31

7 1 3
6   5
4 2 8
        

7 1 3
6 2 5
4 8  
        
Level: 32

7 1 3
  6 5
4 2 8
        
Level: 33

7 1 3
4 6 5
  2 8
        
Level: 34

7 1 3
4 6 5
2   8
        
Level: 35

7 1 3
4   5
2 6 8
        

7 1 3
4 6 5
2 8  
        
Level: 36

7 1 3
  4 5
2 6 8
        
Level: 37

7 1 3
2 4 5
  6 8
        
Fail
