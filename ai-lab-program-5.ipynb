
Vacuum Cleaner Program


BMS College of Engineering - Prof Sowmya V

Objective
Given M x N grid(floor) create an agent that moves around the grid until the entire grid is clean

Move the agent anyway you see fit until the floor is clean
Agent can start at any tile on the floor
Code
Create your clean function
Create a print function that shows current position of the vaccum cleaner at every move your agent makes
Floor is represented in this manner
# '1' represents dirty and '0' represents clean
floor = [[1, 0, 0, 0], 
         [0, 1, 0, 1],
         [1, 0, 1, 1]]
To clean simply convert '1' to '0'

In [ ]:
def clean(floor):
    for i in range(len(floor)):
        print('Floor {} : '.format(i+1))
        for j in range(len(floor[0])):
            floor = print_floor(floor, i, j)
        print()
In [ ]:
def print_floor(floor, row, col): # row, col represent the current vacuum cleaner position
    if floor[row][col]:
        floor[row][col] = 0
        print(' Cleaned ', end = ' ')
    else: print(' Already Cleaned ', end = ' ')
    return floor
In [ ]:
# Test 1
floor = [[1, 0, 0, 0],
         [0, 1, 0, 1],
         [1, 0, 1, 1]]

clean(floor)
In [ ]:
# Test 2
floor = [[1, 1, 0, 0, 1, 0, 0],
         [0, 0, 0, 1, 0, 0, 0],
         [0, 1, 1, 1, 1, 1, 1],
         [0, 1, 0, 1, 0, 1, 0]]

clean(floor)
